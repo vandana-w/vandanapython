{
 "cells": [
  {
   "cell_type": "markdown",
   "metadata": {},
   "source": [
    "# To Day Agenda\n",
    "+ Execution of Commands in Python Shell\n",
    "- Data type\n",
    " + int\n",
    " + float\n",
    " + boolean\n",
    " - string\n",
    " + complex\n",
    "+ I\\P And O\\P\n",
    "* program Execuation in idle\n",
    "+ program Execuation in command prompt\n",
    "+ Git Hub in Account Craeation\n",
    "\n",
    " "
   ]
  },
  {
   "cell_type": "code",
   "execution_count": null,
   "metadata": {},
   "outputs": [],
   "source": []
  }
 ],
 "metadata": {
  "kernelspec": {
   "display_name": "Python 3",
   "language": "python",
   "name": "python3"
  },
  "language_info": {
   "codemirror_mode": {
    "name": "ipython",
    "version": 3
   },
   "file_extension": ".py",
   "mimetype": "text/x-python",
   "name": "python",
   "nbconvert_exporter": "python",
   "pygments_lexer": "ipython3",
   "version": "3.7.3"
  }
 },
 "nbformat": 4,
 "nbformat_minor": 2
}
